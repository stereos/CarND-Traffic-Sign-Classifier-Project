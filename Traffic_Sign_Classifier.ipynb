{
 "cells": [
  {
   "cell_type": "markdown",
   "metadata": {},
   "source": [
    "# Self-Driving Car Engineer Nanodegree\n",
    "\n",
    "## Deep Learning\n",
    "\n",
    "## Project: Build a Traffic Sign Recognition Classifier\n",
    "\n",
    "In this notebook, a template is provided for you to implement your functionality in stages, which is required to successfully complete this project. If additional code is required that cannot be included in the notebook, be sure that the Python code is successfully imported and included in your submission if necessary. \n",
    "\n",
    "> **Note**: Once you have completed all of the code implementations, you need to finalize your work by exporting the iPython Notebook as an HTML document. Before exporting the notebook to html, all of the code cells need to have been run so that reviewers can see the final implementation and output. You can then export the notebook by using the menu above and navigating to  \\n\",\n",
    "    \"**File -> Download as -> HTML (.html)**. Include the finished document along with this notebook as your submission. \n",
    "\n",
    "In addition to implementing code, there is a writeup to complete. The writeup should be completed in a separate file, which can be either a markdown file or a pdf document. There is a [write up template](https://github.com/udacity/CarND-Traffic-Sign-Classifier-Project/blob/master/writeup_template.md) that can be used to guide the writing process. Completing the code template and writeup template will cover all of the [rubric points](https://review.udacity.com/#!/rubrics/481/view) for this project.\n",
    "\n",
    "The [rubric](https://review.udacity.com/#!/rubrics/481/view) contains \"Stand Out Suggestions\" for enhancing the project beyond the minimum requirements. The stand out suggestions are optional. If you decide to pursue the \"stand out suggestions\", you can include the code in this Ipython notebook and also discuss the results in the writeup file.\n",
    "\n",
    "\n",
    ">**Note:** Code and Markdown cells can be executed using the **Shift + Enter** keyboard shortcut. In addition, Markdown cells can be edited by typically double-clicking the cell to enter edit mode."
   ]
  },
  {
   "cell_type": "markdown",
   "metadata": {},
   "source": [
    "---\n",
    "## Step 0: Load The Data"
   ]
  },
  {
   "cell_type": "code",
   "execution_count": 1,
   "metadata": {},
   "outputs": [],
   "source": [
    "# Load pickled data\n",
    "import pickle\n",
    "\n",
    "\n",
    "# TODO: Fill this in based on where you saved the training and testing data\n",
    "\n",
    "training_file = \"data/train.p\"\n",
    "validation_file= \"data/valid.p\"\n",
    "testing_file =  \"data/test.p\"\n",
    "\n",
    "with open(training_file, mode='rb') as f:\n",
    "    train = pickle.load(f)\n",
    "with open(validation_file, mode='rb') as f:\n",
    "    valid = pickle.load(f)\n",
    "with open(testing_file, mode='rb') as f:\n",
    "    test = pickle.load(f)\n",
    "    \n",
    "X_train, y_train = train['features'], train['labels']\n",
    "X_valid, y_valid = valid['features'], valid['labels']\n",
    "X_test, y_test = test['features'], test['labels']\n",
    "from sklearn.utils import shuffle\n",
    "X_train, y_train = shuffle(X_train, y_train) "
   ]
  },
  {
   "cell_type": "markdown",
   "metadata": {},
   "source": [
    "---\n",
    "\n",
    "## Step 1: Dataset Summary & Exploration\n",
    "\n",
    "The pickled data is a dictionary with 4 key/value pairs:\n",
    "\n",
    "- `'features'` is a 4D array containing raw pixel data of the traffic sign images, (num examples, width, height, channels).\n",
    "- `'labels'` is a 1D array containing the label/class id of the traffic sign. The file `signnames.csv` contains id -> name mappings for each id.\n",
    "- `'sizes'` is a list containing tuples, (width, height) representing the original width and height the image.\n",
    "- `'coords'` is a list containing tuples, (x1, y1, x2, y2) representing coordinates of a bounding box around the sign in the image. **THESE COORDINATES ASSUME THE ORIGINAL IMAGE. THE PICKLED DATA CONTAINS RESIZED VERSIONS (32 by 32) OF THESE IMAGES**\n",
    "\n",
    "Complete the basic data summary below. Use python, numpy and/or pandas methods to calculate the data summary rather than hard coding the results. For example, the [pandas shape method](http://pandas.pydata.org/pandas-docs/stable/generated/pandas.DataFrame.shape.html) might be useful for calculating some of the summary results. "
   ]
  },
  {
   "cell_type": "markdown",
   "metadata": {},
   "source": [
    "### Provide a Basic Summary of the Data Set Using Python, Numpy and/or Pandas"
   ]
  },
  {
   "cell_type": "code",
   "execution_count": 2,
   "metadata": {},
   "outputs": [
    {
     "name": "stdout",
     "output_type": "stream",
     "text": [
      "Number of training examples = 34799\n",
      "Number of training examples after adding extra = 17399\n",
      "Number of testing examples = 12630\n",
      "Image data shape = (32, 32, 3)\n",
      "Number of classes = 43\n"
     ]
    }
   ],
   "source": [
    "import numpy as np\n",
    "import pandas as pd\n",
    "import random\n",
    "\n",
    "\n",
    "### Replace each question mark with the appropriate value. \n",
    "### Use python, pandas or numpy methods rather than hard coding the results\n",
    "#choose if use grayscale or color, for testing purpose.\n",
    "use_grayscale=False\n",
    "\n",
    "# TODO: Number of training examples\n",
    "n_train = int(len(X_train)*0.5)\n",
    "\n",
    "# TODO: Number of validation examples\n",
    "n_validation = len(X_valid)\n",
    "\n",
    "# TODO: Number of testing examples.\n",
    "n_test = len(X_test)\n",
    "\n",
    "# TODO: What's the shape of an traffic sign image?\n",
    "image_shape = np.shape(X_train[0])\n",
    "\n",
    "# TODO: How many unique classes/labels there are in the dataset.\n",
    "n_classes = np.max(y_train)+1\n",
    "\n",
    "print(\"Number of training examples =\", len(X_train))\n",
    "print(\"Number of training examples after adding extra =\", n_train)\n",
    "print(\"Number of testing examples =\", n_test)\n",
    "print(\"Image data shape =\", image_shape)\n",
    "print(\"Number of classes =\", n_classes)\n",
    "\n",
    "\n",
    "#For testing purpose with smaller set\n",
    "if n_train < len(X_train): #delete some items(no need for random as we shuffeled already\n",
    "    X_train=X_train[0:n_train]\n",
    "    y_train=y_train[0:n_train]\n",
    "\n",
    "if n_validation < len(X_valid):\n",
    "    X_valid=X_valid[0:n_validation]\n",
    "    y_valid=y_valid[0:n_validation]\n",
    "    \n",
    "if n_test < len(X_test):\n",
    "    X_test=X_test[0:n_test]\n",
    "    y_test=y_test[0:n_test]\n",
    "    \n"
   ]
  },
  {
   "cell_type": "markdown",
   "metadata": {},
   "source": [
    "### Include an exploratory visualization of the dataset"
   ]
  },
  {
   "cell_type": "markdown",
   "metadata": {},
   "source": [
    "Visualize the German Traffic Signs Dataset using the pickled file(s). This is open ended, suggestions include: plotting traffic sign images, plotting the count of each sign, etc. \n",
    "\n",
    "The [Matplotlib](http://matplotlib.org/) [examples](http://matplotlib.org/examples/index.html) and [gallery](http://matplotlib.org/gallery.html) pages are a great resource for doing visualizations in Python.\n",
    "\n",
    "**NOTE:** It's recommended you start with something simple first. If you wish to do more, come back to it after you've completed the rest of the sections. It can be interesting to look at the distribution of classes in the training, validation and test set. Is the distribution the same? Are there more examples of some classes than others?"
   ]
  },
  {
   "cell_type": "code",
   "execution_count": 3,
   "metadata": {},
   "outputs": [
    {
     "data": {
      "image/png": "[encoded data removed]",
      "text/plain": [
       "<matplotlib.figure.Figure at 0x7ff4fe45a6d8>"
      ]
     },
     "metadata": {},
     "output_type": "display_data"
    },
    {
     "name": "stdout",
     "output_type": "stream",
     "text": [
      "1.58900060799715\n"
     ]
    },
    {
     "data": {
      "image/png": "[encoded data removed]",
      "text/plain": [
       "<matplotlib.figure.Figure at 0x7ff4fbd14b70>"
      ]
     },
     "metadata": {},
     "output_type": "display_data"
    }
   ],
   "source": [
    "### Data exploration visualization code goes here.\n",
    "### Feel free to use as many code cells as needed.\n",
    "import matplotlib.pyplot as plt\n",
    "# Visualizations will be shown in the notebook.\n",
    "%matplotlib inline\n",
    "import timeit\n",
    "\n",
    "\n",
    "def print_sign(X_data,y_data,items_per_class=10,classes=None,location=0,squeeze=True,ordered=False):\n",
    "    start_time = timeit.default_timer()\n",
    "    bins=np.bincount(y_data)\n",
    "    cols=items_per_class\n",
    "    #fig, axs = plt.subplots(items_per_class)\n",
    "    \n",
    "    #fig, axs = plt.subplots(int(np.ceil((n_classes))),cols, figsize=(items_per_class*2,n_classes*2), sharex=True, sharey=True)\n",
    " \n",
    "    if classes==None:\n",
    "        classes=range(n_classes)\n",
    "    w=20#items_per_class*2\n",
    "    h=len(classes)*2\n",
    "    fig, axs = plt.subplots(len(classes),cols, figsize=(w,h), sharex=True, sharey=True)\n",
    "    \n",
    "    axs = axs.ravel()\n",
    "    print(timeit.default_timer() - start_time)\n",
    "\n",
    "    for c in classes:\n",
    "\n",
    "        indexes = np.where(y_data==c)[0] #where looks for all, how to just take first??e\n",
    "        #todo, this can pick same several times.. not good... \n",
    "        if indexes.size: \n",
    "            if ordered:\n",
    "                indexes=indexes[0:items_per_class]\n",
    "            else:\n",
    "                indexes = np.random.choice(indexes,items_per_class,replace=False)\n",
    "        for i,index in enumerate(indexes):\n",
    "\n",
    "            pos=c*items_per_class+i\n",
    "            if squeeze:\n",
    "                image = X_data[index].squeeze()\n",
    "            else:\n",
    "                image = X_data[index]\n",
    "            axs[pos].set_title(bins[c])\n",
    "            axs[pos].imshow(image, cmap=\"gray\")\n",
    "    \n",
    "\n",
    "\n",
    "\n",
    "train_h=np.histogram(y_train,n_classes)\n",
    "#valid_h=np.histogram(y_valid,n_classes)\n",
    "#test_h=np.histogram(y_test,n_classes)\n",
    "\n",
    "#print histogram, the optimal is that all is about the same\n",
    "plt.hist(y_train,n_classes)\n",
    "plt.show()\n",
    "#plt.hist(y_valid,n_classes)\n",
    "#plt.show()\n",
    "#plt.hist(y_test,n_classes)\n",
    "#plt.show()\n",
    "#We can see that same labels in the set is rather few, for example the first item. \n",
    "#This may make it harder to predict those signs, but then I assume it will depend on much more\n",
    "#for example signs that look very different should need lees amount of data while those that are very \n",
    "#similar should need more for each label.. anyway, we can create more of those later.\n",
    "\n",
    "##Show one random from each class\n",
    "print_sign(X_train,y_train,10,classes=[0],squeeze=False)\n",
    "#cols=10\n",
    "#start_time = timeit.default_timer()\n",
    "#fig, axs = plt.subplots(int(np.ceil((n_classes/cols))),cols, figsize=(20, 10), sharex=True, sharey=True)\n",
    "#print(timeit.default_timer() - start_time)\n",
    "#axs = axs.ravel()\n",
    "#for i in range(n_classes):\n",
    "#    index = np.where(y_train==i)[0] #where looks for all, how to just take first??e\n",
    "#    if index.size:\n",
    "#        index = index[random.randint(0, len(index)-1)]\n",
    "#   \n",
    "#        image = X_train[index].squeeze()\n",
    "#        axs[i].set_title(train_h[0][i])\n",
    "#        axs[i].imshow(image, cmap=\"gray\")\n",
    "\n",
    "        #mini=np.min(image)\n",
    "        #maxi=np.max(image)\n",
    "        #avgp=np.floor(np.average(image))\n",
    "        #image=np.floor((1-(image-mini)/(maxi-mini))*255)+1\n",
    "        #image=((((image)/(maxi))*10)//1).squeeze()\n",
    "        #image=np.floor((1-(image-mini)/(maxi-mini+avgp))*255)+(avgp-128)\n",
    "        #image=np.maximum(image,1)\n",
    "        #image=np.minimum(image,255)\n",
    "       # print('RGB shape:', image.shape)\n",
    "        #print(np.min(image))\n",
    "        #print(np.max(image))\n",
    "        #axs[n_classes//2 + i].imshow(image, cmap=\"gray\")\n"
   ]
  },
  {
   "cell_type": "markdown",
   "metadata": {},
   "source": [
    "----\n",
    "\n",
    "## Step 2: Design and Test a Model Architecture\n",
    "\n",
    "Design and implement a deep learning model that learns to recognize traffic signs. Train and test your model on the [German Traffic Sign Dataset](http://benchmark.ini.rub.de/?section=gtsrb&subsection=dataset).\n",
    "\n",
    "The LeNet-5 implementation shown in the [classroom](https://classroom.udacity.com/nanodegrees/nd013/parts/fbf77062-5703-404e-b60c-95b78b2f3f9e/modules/6df7ae49-c61c-4bb2-a23e-6527e69209ec/lessons/601ae704-1035-4287-8b11-e2c2716217ad/concepts/d4aca031-508f-4e0b-b493-e7b706120f81) at the end of the CNN lesson is a solid starting point. You'll have to change the number of classes and possibly the preprocessing, but aside from that it's plug and play! \n",
    "\n",
    "With the LeNet-5 solution from the lecture, you should expect a validation set accuracy of about 0.89. To meet specifications, the validation set accuracy will need to be at least 0.93. It is possible to get an even higher accuracy, but 0.93 is the minimum for a successful project submission. \n",
    "\n",
    "There are various aspects to consider when thinking about this problem:\n",
    "\n",
    "- Neural network architecture (is the network over or underfitting?)\n",
    "- Play around preprocessing techniques (normalization, rgb to grayscale, etc)\n",
    "- Number of examples per label (some have more than others).\n",
    "- Generate fake data.\n",
    "\n",
    "Here is an example of a [published baseline model on this problem](http://yann.lecun.com/exdb/publis/pdf/sermanet-ijcnn-11.pdf). It's not required to be familiar with the approach used in the paper but, it's good practice to try to read papers like these."
   ]
  },
  {
   "cell_type": "markdown",
   "metadata": {},
   "source": [
    "### Pre-process the Data Set (normalization, grayscale, etc.)"
   ]
  },
  {
   "cell_type": "markdown",
   "metadata": {},
   "source": [
    "Minimally, the image data should be normalized so that the data has mean zero and equal variance. For image data, `(pixel - 128)/ 128` is a quick way to approximately normalize the data and can be used in this project. \n",
    "\n",
    "Other pre-processing steps are optional. You can try different techniques to see if it improves performance. \n",
    "\n",
    "Use the code cell (or multiple code cells, if necessary) to implement the first step of your project."
   ]
  },
  {
   "cell_type": "code",
   "execution_count": 4,
   "metadata": {},
   "outputs": [],
   "source": [
    "import cv2\n",
    "from scipy import ndimage\n",
    "#tpp=X_train\n",
    "#tppy=y_train\n",
    "#X_train=tpp\n",
    "#y_train=tppy\n",
    "\n",
    "### Preprocess the data here. It is required to normalize the data. Other preprocessing steps could include \n",
    "### converting to grayscale, etc.\n",
    "### Feel free to use as many code cells as needed.\n",
    "\n",
    "\n",
    "# change image so darkest is -1 and brightest is 1, then shift this so avrage is 0    \n",
    "# this will make dark and bright images similar even if there's a few bright pixels like glare in night\n",
    "# \n",
    "def gray(image):\n",
    "    return cv2.cvtColor(image, cv2.COLOR_BGR2GRAY)\n",
    "\n",
    "def normalize(image):\n",
    "    minp=np.min(image)\n",
    "    maxp=np.max(image)\n",
    "    image=((image-minp)/(maxp-minp))*2-1\n",
    "    avgp=np.average(image)\n",
    "    image-=avgp\n",
    "    return image\n",
    "    \n",
    "def preprocess(data,gray=True):\n",
    "    images = []\n",
    "    for image in data:\n",
    "        if gray:\n",
    "            imgage = gray(image)\n",
    "        images.append(normalize(image))\n",
    "    return np.array(images)\n",
    "\n",
    "\n",
    "#Add more images, this can be done in many ways, like rotating, croping, noise etc\n",
    "#we do this to make sure the classes with we examples gets more.\n",
    "#we need to take care with the classes that would belong to another class when flipped, but we can also\n",
    "#take advantage of this, so lets flip all left arrows and add those to rigth arrows etc etc!\n",
    "def flipToNewClass(x_data,y_data,class1,class2,num_new):\n",
    "    index_class1 = np.where(y_train==class1)[0]\n",
    "    index_class2 = np.where(y_train==class2)[0]\n",
    "    if len(index_class1)+len(index_class2) > num_new:\n",
    "        return x_data,y_data,num_new\n",
    "    num_new-=len(index_class1)+len(index_class2)\n",
    "    tmp_data= []#np.zeros_like(X_train)\n",
    "    tmp_y= []\n",
    "    for i in index_class1:\n",
    "        tmp_data.append(cv2.flip(x_data[i],1))\n",
    "        tmp_y.append(class2)\n",
    "    for i in index_class2:\n",
    "        tmp_data.append(cv2.flip(x_data[i],1))\n",
    "        tmp_y.append(class1)\n",
    "    x_data=np.append(x_data, np.array(tmp_data), axis=0)\n",
    "    y_data=np.append(y_data, np.array(tmp_y), axis=0)\n",
    "    return x_data,y_data,num_new\n",
    "\n",
    "def change_image(image,c):\n",
    "        #based on what class, we need to hardcode what kind of transformation\n",
    "        #is allowed, this is not the nicest way...\n",
    "        if c in [11,12,13,15,17,18,22,23,26,30,35] and random.random() < 0.3: #flip_lr, only signs that's \"the same\" after flip\n",
    "            image=cv2.flip(image,1)\n",
    "        if c in [12,15,17] and random.random() < 0.3: #flip_ud with 30% probability\n",
    "            image=cv2.flip(image,0)\n",
    "        if c in [32] and random.random() < 0.3:#rotate 180\n",
    "            image=cv2.flip(image,0)\n",
    "            image=cv2.flip(image,1)\n",
    "        \n",
    "        #rotate:\n",
    "        if c in [40,15]: #+-180  #these signs can rotate 180 degree and still look the same\n",
    "            degree=np.random.randint(-180,180)\n",
    "        else: #+-20 \n",
    "            degree=np.random.randint(-20,20)\n",
    "        M = cv2.getRotationMatrix2D((16,16),degree,1)\n",
    "        meancolor=np.mean(image)\n",
    "        image = cv2.warpAffine(image,M,(32,32), borderMode=cv2.BORDER_REPLICATE, borderValue=(meancolor,meancolor,meancolor))\n",
    "        M = np.float32([[1,0,np.random.randint(-4,4)],[0,1,np.random.randint(-4,4)]])\n",
    "        #for i in image\n",
    "        image = cv2.warpAffine(image,M,(32,32), borderMode=cv2.BORDER_REPLICATE, borderValue=(meancolor,meancolor,meancolor))\n",
    "        return image\n",
    "\n",
    "def addNewData(X_data,y_data):\n",
    "    num_new = n_train - len(X_data)\n",
    "\n",
    "    X_data,y_data,num_new = flipToNewClass(X_data,y_data,19,20,num_new)\n",
    "    X_data,y_data,num_new = flipToNewClass(X_data,y_data,33,34,num_new)\n",
    "    X_data,y_data,num_new = flipToNewClass(X_data,y_data,36,37,num_new)\n",
    "    X_data,y_data,num_new = flipToNewClass(X_data,y_data,38,39,num_new)\n",
    "\n",
    "    train_h=np.bincount(y_data)\n",
    "    inv_train_h=max(train_h)-train_h+10 ##the 1 make sure the best also get a few, change this maybe..\n",
    "    class_i=np.random.choice(range(len(inv_train_h)), num_new, p=inv_train_h/sum(inv_train_h))\n",
    "    count_class=np.bincount(class_i)\n",
    "    tmp_data= []\n",
    "    tmp_y= []\n",
    "\n",
    "    ##Add new images\n",
    "    for c,n in enumerate(count_class):\n",
    "        indexes = np.where(y_data==c)[0]\n",
    "        indexes = np.random.choice(indexes,n)\n",
    "        for index in indexes:\n",
    "            image = X_data[index]\n",
    "            image=change_image(image,c)\n",
    "            tmp_data.append(image)\n",
    "            tmp_y.append(c)\n",
    "            \n",
    "    return tmp_data, tmp_y\n",
    "\n"
   ]
  },
  {
   "cell_type": "code",
   "execution_count": 5,
   "metadata": {},
   "outputs": [
    {
     "name": "stdout",
     "output_type": "stream",
     "text": [
      "shape after preprecess: (17399, 32, 32, 3)\n"
     ]
    }
   ],
   "source": [
    "from numpy import newaxis\n",
    "tmp_data,tmp_y=addNewData(X_train,y_train)\n",
    "if len(tmp_data)>0:\n",
    "    X_train=np.append(X_train, np.array(tmp_data), axis=0)\n",
    "    y_train=np.append(y_train, np.array(tmp_y), axis=0)\n",
    "X_train_p = preprocess(X_train,use_grayscale)\n",
    "X_valid_p = preprocess(X_valid,use_grayscale)\n",
    "X_test_p = preprocess(X_test,use_grayscale)\n",
    "if use_grayscale:\n",
    "    X_train_p = X_train_p[..., newaxis]\n",
    "    X_valid_p = X_valid_p[..., newaxis]\n",
    "    X_test_p = X_test_p[..., newaxis]\n",
    "\n",
    "print('shape after preprecess:', X_train_p.shape)\n",
    "#print('Grayscale shape:', X_train_gry.shape)\n",
    "\n",
    "##shuffle the trainset\n",
    "from sklearn.utils import shuffle\n",
    "X_train_p,X_train,y_train = shuffle(X_train_p,X_train, y_train)"
   ]
  },
  {
   "cell_type": "code",
   "execution_count": 6,
   "metadata": {},
   "outputs": [
    {
     "name": "stdout",
     "output_type": "stream",
     "text": [
      "<function gray at 0x7ff4f9a44c80>\n"
     ]
    }
   ],
   "source": [
    "print(gray)"
   ]
  },
  {
   "cell_type": "code",
   "execution_count": 7,
   "metadata": {},
   "outputs": [
    {
     "name": "stdout",
     "output_type": "stream",
     "text": [
      "(32, 32, 3)\n",
      "-0.826757080993 1.17324291901\n"
     ]
    },
    {
     "data": {
      "image/png": "[encoded data removed]",
      "text/plain": [
       "<matplotlib.figure.Figure at 0x7ff4f972a630>"
      ]
     },
     "metadata": {},
     "output_type": "display_data"
    }
   ],
   "source": [
    "#Show how  the preprocess affected the image, in the case of color, also show for each channel\n",
    "#(for some reason it looks really bad to show it in color after\n",
    "fig, axs = plt.subplots(1,5, figsize=(20, 10), sharex=True, sharey=True)\n",
    "axs = axs.ravel()\n",
    "index= np.random.randint(len(X_train_p))\n",
    "image = X_train_p[index].squeeze()#normalize(X_train[index]).squeeze()\n",
    "print(np.shape(image))\n",
    "print(np.min(X_train_p[index]),np.max(X_train_p[index]))\n",
    "axs[0].imshow((X_train[index]).squeeze(), cmap=\"gray\")\n",
    "axs[1].imshow(image, cmap=\"gray\")\n",
    "if not use_grayscale:\n",
    "    axs[2].imshow(image[:,:,0], cmap=\"gray\")\n",
    "    axs[3].imshow(image[:,:,1], cmap=\"gray\")\n",
    "    axs[4].imshow(image[:,:,2], cmap=\"gray\")"
   ]
  },
  {
   "cell_type": "code",
   "execution_count": 8,
   "metadata": {},
   "outputs": [
    {
     "data": {
      "image/png": "[encoded data removed]",
      "text/plain": [
       "<matplotlib.figure.Figure at 0x7ff4fe43f5c0>"
      ]
     },
     "metadata": {},
     "output_type": "display_data"
    }
   ],
   "source": [
    "#plot the histogram after adding more data, should be more equal between the classes\n",
    "plt.hist(y_train,n_classes)\n",
    "plt.show()\n",
    "#print_sign(X_train_p,y_train,4)"
   ]
  },
  {
   "cell_type": "markdown",
   "metadata": {},
   "source": [
    "### Model Architecture\n",
    "\n",
    "\n"
   ]
  },
  {
   "cell_type": "code",
   "execution_count": null,
   "metadata": {},
   "outputs": [],
   "source": []
  },
  {
   "cell_type": "code",
   "execution_count": 14,
   "metadata": {},
   "outputs": [],
   "source": [
    "### Define your architecture here.\n",
    "### Feel free to use as many code cells as needed.\n",
    "import tensorflow as tf\n",
    "from tensorflow.contrib.layers import flatten\n",
    "\n",
    "#def data_augment(images):\n",
    "     #   for\n",
    "    #image = tf.image.random_flip_left_right(image)\n",
    "    #image = tf.image.random_brightness(image, max_delta=63)\n",
    "    #image = tf.image.random_contrast(image, lower=0.2, upper=1.8)\n",
    "    #image = tf.expand_dims(image, 0)\n",
    "    #return image\n",
    "    \n",
    "    #NEXT LAYER IS new_height = (input_height - filter_height + 2 * P)/S + 1\n",
    "\n",
    "def LeNet(x,keep_prob):    \n",
    "    # Arguments used for tf.truncated_normal, randomly defines variables for the weights and biases for each layer\n",
    "    print(np.shape(x))\n",
    "    mu = 0\n",
    "    sigma = 0.1\n",
    "    input_channels=1 if use_grayscale else 3\n",
    "    #x=tf.map_fn(data_augment, x)\n",
    "    #x=data_augment(x)\n",
    "    # SOLUTION: Layer 1: Convolutional. Input = 32x32x1. Output = 28x28x6.\n",
    "    \n",
    "    conv1_W = tf.Variable(tf.truncated_normal(shape=(5, 5, input_channels, 20), mean = mu, stddev = sigma))\n",
    "    conv1_b = tf.Variable(tf.zeros(20))\n",
    "    conv1   = tf.nn.conv2d(x, conv1_W, strides=[1, 1, 1, 1], padding='VALID') + conv1_b\n",
    "\n",
    "    # SOLUTION: Activation.\n",
    "    conv1 = tf.nn.relu(conv1)\n",
    "\n",
    "    # SOLUTION: Pooling. Input = 28x28x6. Output = 14x14x6.\n",
    "    conv1 = tf.nn.max_pool(conv1, ksize=[1, 2, 2, 1], strides=[1, 2, 2, 1], padding='VALID')\n",
    "    #conv1 = tf.nn.dropout(conv1, 0.5)\n",
    "    \n",
    "    \n",
    "    \n",
    "\n",
    "    # SOLUTION: Layer 2: Convolutional. Input = 14x14x6. Output = 10x10x16. || 12x12x24\n",
    "    conv2_W = tf.Variable(tf.truncated_normal(shape=(3, 3, 20, 28), mean = mu, stddev = sigma))\n",
    "    conv2_b = tf.Variable(tf.zeros(28))\n",
    "    conv2   = tf.nn.conv2d(conv1, conv2_W, strides=[1, 1, 1, 1], padding='VALID') + conv2_b\n",
    "    \n",
    "    # SOLUTION: Activation.\n",
    "    conv2 = tf.nn.relu(conv2)\n",
    "\n",
    "    # SOLUTION: Pooling. Input = 12x12x24. Output = 5x5x16.  || 12 to 6\n",
    "    conv2 = tf.nn.max_pool(conv2, ksize=[1, 2, 2, 1], strides=[1, 2, 2, 1], padding='VALID')\n",
    "\n",
    "    \n",
    "    \n",
    "    \n",
    "    # SOLUTION: Layer 3: Convolutional.Input = 5x5x16.  Output = 10x10x32. || 6 to 4\n",
    "    conv3_W = tf.Variable(tf.truncated_normal(shape=(3, 3, 28, 48), mean = mu, stddev = sigma))\n",
    "    conv3_b = tf.Variable(tf.zeros(48))\n",
    "    conv3   = tf.nn.conv2d(conv2, conv3_W, strides=[1, 1, 1, 1], padding='VALID') + conv3_b\n",
    "    \n",
    "    # SOLUTION: Activation.3\n",
    "    conv3 = tf.nn.relu(conv3)\n",
    "    #print(np.shape(conv3))\n",
    "    # SOLUTION: Pooling. Input = 10x10x16. Output = 5x5x16. skip this as were already at 4x4 \n",
    "    #conv3 = tf.nn.max_pool(conv3, ksize=[1, 2, 2, 1], strides=[1, 2, 2, 1], padding='VALID')\n",
    "    \n",
    "    \n",
    "    \n",
    "    \n",
    "    \n",
    "    \n",
    "    #Todo, try adding 1x1 conv layer.\n",
    "    conv4_W = tf.Variable(tf.truncated_normal(shape=(1, 1, 48, 48), mean = mu, stddev = sigma))\n",
    "    conv4_b = tf.Variable(tf.zeros(48))\n",
    "    conv4   = tf.nn.conv2d(conv3, conv4_W, strides=[1, 1, 1, 1], padding='VALID') + conv4_b\n",
    "    \n",
    "    # SOLUTION: Flatten. Input = 5x5x16. Output = 400.\n",
    "    fc0   = flatten(conv4)\n",
    "    \n",
    "    \n",
    "    \n",
    "    \n",
    "    \n",
    "    # SOLUTION: Layer 3: Fully Connected. Input = 400. Output = 120.\n",
    "    fc1_W = tf.Variable(tf.truncated_normal(shape=(768, 320), mean = mu, stddev = sigma))\n",
    "    fc1_b = tf.Variable(tf.zeros(320))\n",
    "    fc1   = tf.matmul(fc0, fc1_W) + fc1_b\n",
    "    \n",
    "    # SOLUTION: Activation.\n",
    "    fc1    = tf.nn.relu(fc1)\n",
    "    fc1    = tf.nn.dropout(fc1,keep_prob)\n",
    "    \n",
    "    \n",
    "    \n",
    "    \n",
    "    # SOLUTION: Layer 4: Fully Connected. Input = 120. Output = 84.\n",
    "    fc2_W  = tf.Variable(tf.truncated_normal(shape=(320, 184), mean = mu, stddev = sigma))\n",
    "    fc2_b  = tf.Variable(tf.zeros(184))\n",
    "    fc2    = tf.matmul(fc1, fc2_W) + fc2_b\n",
    "    \n",
    "    # SOLUTION: Activation.\n",
    "    fc2    = tf.nn.relu(fc2)\n",
    "    fc2    = tf.nn.dropout(fc2,keep_prob)\n",
    "    \n",
    "    \n",
    "    \n",
    "    \n",
    "    \n",
    "        # SOLUTION: Layer 4: Fully Connected. Input = 120. Output = 84.\n",
    "    fc3_W  = tf.Variable(tf.truncated_normal(shape=(184, 84), mean = mu, stddev = sigma))\n",
    "    fc3_b  = tf.Variable(tf.zeros(84))\n",
    "    fc3    = tf.matmul(fc2, fc3_W) + fc3_b\n",
    "    \n",
    "    # SOLUTION: Activation.\n",
    "    fc3    = tf.nn.relu(fc3)\n",
    "    fc3    = tf.nn.dropout(fc3,keep_prob)\n",
    "    \n",
    "    \n",
    "\n",
    "    \n",
    "    \n",
    "    # SOLUTION: Layer 5: Fully Connected. Input = 84. Output = n_classes.\n",
    "    fc4_W  = tf.Variable(tf.truncated_normal(shape=(84, n_classes), mean = mu, stddev = sigma))\n",
    "    fc4_b  = tf.Variable(tf.zeros(n_classes))\n",
    "    logits = tf.matmul(fc3, fc4_W) + fc4_b\n",
    "    \n",
    "    return logits"
   ]
  },
  {
   "cell_type": "markdown",
   "metadata": {},
   "source": [
    "### Train, Validate and Test the Model"
   ]
  },
  {
   "cell_type": "markdown",
   "metadata": {},
   "source": [
    "A validation set can be used to assess how well the model is performing. A low accuracy on the training and validation\n",
    "sets imply underfitting. A high accuracy on the training set but low accuracy on the validation set implies overfitting."
   ]
  },
  {
   "cell_type": "code",
   "execution_count": 15,
   "metadata": {},
   "outputs": [
    {
     "name": "stdout",
     "output_type": "stream",
     "text": [
      "(?, 32, 32, 3)\n",
      "Training...\n",
      "\n",
      "EPOCH 1 ...\n",
      "Validation Accuracy = 0.424\n",
      "\n",
      "EPOCH 2 ...\n",
      "Validation Accuracy = 0.701\n",
      "\n",
      "EPOCH 3 ...\n",
      "Validation Accuracy = 0.840\n",
      "\n",
      "EPOCH 4 ...\n",
      "Validation Accuracy = 0.894\n",
      "\n",
      "test Accuracy = 0.894\n",
      "Model saved\n"
     ]
    }
   ],
   "source": [
    "### Train your model here.\n",
    "### Calculate and report the accuracy on the training and validation set.\n",
    "### Once a final model architecture is selected, \n",
    "### the accuracy on the test set should be calculated and reported as well.\n",
    "### Feel free to use as many code cells as needed.\n",
    "\n",
    "\n",
    "EPOCHS = 4\n",
    "BATCH_SIZE = 128\n",
    "\n",
    "keep_prob = tf.placeholder(tf.float32, (None))\n",
    "input_channels=1 if use_grayscale else 3\n",
    "x = tf.placeholder(tf.float32, (None, 32, 32, input_channels))\n",
    "y = tf.placeholder(tf.int32, (None))\n",
    "one_hot_y = tf.one_hot(y, n_classes)\n",
    "\n",
    "rate = 0.001\n",
    "\n",
    "logits = LeNet(x,keep_prob)\n",
    "cross_entropy = tf.nn.softmax_cross_entropy_with_logits(labels=one_hot_y, logits=logits)\n",
    "loss_operation = tf.reduce_mean(cross_entropy)\n",
    "optimizer = tf.train.AdamOptimizer(learning_rate = rate)\n",
    "training_operation = optimizer.minimize(loss_operation)\n",
    "\n",
    "\n",
    "\n",
    "correct_prediction = tf.equal(tf.argmax(logits, 1), tf.argmax(one_hot_y, 1))\n",
    "accuracy_operation = tf.reduce_mean(tf.cast(correct_prediction, tf.float32))\n",
    "saver = tf.train.Saver()\n",
    "#sess = tf.get_default_session()\n",
    "def evaluate(X_data, y_data):\n",
    "    num_examples = len(X_data)\n",
    "    total_accuracy = 0\n",
    "    \n",
    "    for offset in range(0, num_examples, BATCH_SIZE):\n",
    "        batch_x, batch_y = X_data[offset:offset+BATCH_SIZE], y_data[offset:offset+BATCH_SIZE]\n",
    "        accuracy = sess.run(accuracy_operation, feed_dict={x: batch_x, y: batch_y,keep_prob: 1})\n",
    "        total_accuracy += (accuracy * len(batch_x))\n",
    "    return total_accuracy / num_examples\n",
    "\n",
    "\n",
    "with tf.Session() as sess:\n",
    "    sess.run(tf.global_variables_initializer())\n",
    "    num_examples = len(X_train_p)\n",
    "    \n",
    "    print(\"Training...\")\n",
    "    print()\n",
    "    for i in range(EPOCHS):\n",
    "        X_train_p, y_train = shuffle(X_train_p, y_train)\n",
    "        for offset in range(0, num_examples, BATCH_SIZE):\n",
    "            end = offset + BATCH_SIZE\n",
    "            batch_x, batch_y = X_train_p[offset:end], y_train[offset:end]\n",
    "            sess.run(training_operation, feed_dict={x: batch_x, y: batch_y,keep_prob: 0.5})\n",
    "            \n",
    "        validation_accuracy = evaluate(X_valid_p, y_valid)\n",
    "        print(\"EPOCH {} ...\".format(i+1))\n",
    "        print(\"Validation Accuracy = {:.3f}\".format(validation_accuracy))\n",
    "        print()\n",
    "    test_accuracy = evaluate(X_test_p, y_test)\n",
    "    print(\"test Accuracy = {:.3f}\".format(validation_accuracy))\n",
    "    saver.save(sess, './lenet')\n",
    "    print(\"Model saved\")"
   ]
  },
  {
   "cell_type": "markdown",
   "metadata": {},
   "source": [
    "---\n",
    "\n",
    "## Step 3: Test a Model on New Images\n",
    "\n",
    "To give yourself more insight into how your model is working, download at least five pictures of German traffic signs from the web and use your model to predict the traffic sign type.\n",
    "\n",
    "You may find `signnames.csv` useful as it contains mappings from the class id (integer) to the actual sign name."
   ]
  },
  {
   "cell_type": "markdown",
   "metadata": {},
   "source": [
    "### Load and Output the Images"
   ]
  },
  {
   "cell_type": "code",
   "execution_count": null,
   "metadata": {},
   "outputs": [],
   "source": [
    "### Load the images and plot them here.\n",
    "### Feel free to use as many code cells as needed.\n",
    "import os\n",
    "\n",
    "image_path = \"new_test\"\n",
    "X_new_test = []\n",
    "\n",
    "if os.path.isdir(image_path):\n",
    "    images = [image_path+\"/\"+i for i in os.listdir(image_path)]\n",
    "else:\n",
    "    images = [image_path]\n",
    "\n",
    "for image in images:\n",
    "    tmp=cv2.imread(image)\n",
    "    tmp= cv2.resize(tmp, (32, 32)) \n",
    "    X_new_test.append(tmp)\n",
    "#X_new_test = np.asarray(X_new_test)\n",
    "\n",
    "#print_sign(X_new_test,y_new_test,items_per_class=len(X_new_test),classes=[0],squeeze=True)\n",
    "X_new_test = preprocess(X_new_test)\n",
    "X_new_test = X_new_test[..., newaxis]\n",
    "y_new_test =np.array([0]*len(X_new_test))\n",
    "\n",
    "print_sign(X_new_test,y_new_test,items_per_class=len(X_new_test),classes=[0],squeeze=True,ordered=True)\n",
    "y_new_test =[24,30,14,2,18,22,24,28]"
   ]
  },
  {
   "cell_type": "markdown",
   "metadata": {},
   "source": [
    "### Predict the Sign Type for Each Image"
   ]
  },
  {
   "cell_type": "code",
   "execution_count": null,
   "metadata": {},
   "outputs": [],
   "source": [
    "### Run the predictions here and use the model to output the prediction for each image.\n",
    "### Make sure to pre-process the images with the same pre-processing pipeline used earlier.\n",
    "### Feel free to use as many code cells as needed.\n",
    "\n",
    "\n",
    "with tf.Session() as sess:\n",
    "\n",
    "    nsaver = tf.train.import_meta_graph(\"lenet.meta\")\n",
    "    nsaver.restore(sess, tf.train.latest_checkpoint('.'))\n",
    "\n",
    "    test_accuracy = evaluate(X_test_p, y_test)\n",
    "    print(\"Test Accuracy = {:.3f}\".format(test_accuracy))\n",
    "    private_images_accuracy = evaluate(X_new_test, y_new_test)\n",
    "    print(\"My Images Accuracy = {:.3f}\".format(private_images_accuracy))\n",
    "    \n",
    "    softmax = tf.nn.softmax(logits)\n",
    "    probs = sess.run(softmax, feed_dict={x: X_new_test, y: y_new_test, keep_prob: 1})"
   ]
  },
  {
   "cell_type": "code",
   "execution_count": null,
   "metadata": {},
   "outputs": [],
   "source": [
    "for p in probs:\n",
    "    print(np.argmax(p))"
   ]
  },
  {
   "cell_type": "markdown",
   "metadata": {},
   "source": [
    "### Analyze Performance"
   ]
  },
  {
   "cell_type": "code",
   "execution_count": null,
   "metadata": {},
   "outputs": [],
   "source": [
    "### Calculate the accuracy for these 5 new images. \n",
    "### For example, if the model predicted 1 out of 5 signs correctly, it's 20% accurate on these new images."
   ]
  },
  {
   "cell_type": "markdown",
   "metadata": {},
   "source": [
    "### Output Top 5 Softmax Probabilities For Each Image Found on the Web"
   ]
  },
  {
   "cell_type": "markdown",
   "metadata": {},
   "source": [
    "For each of the new images, print out the model's softmax probabilities to show the **certainty** of the model's predictions (limit the output to the top 5 probabilities for each image). [`tf.nn.top_k`](https://www.tensorflow.org/versions/r0.12/api_docs/python/nn.html#top_k) could prove helpful here. \n",
    "\n",
    "The example below demonstrates how tf.nn.top_k can be used to find the top k predictions for each image.\n",
    "\n",
    "`tf.nn.top_k` will return the values and indices (class ids) of the top k predictions. So if k=3, for each sign, it'll return the 3 largest probabilities (out of a possible 43) and the correspoding class ids.\n",
    "\n",
    "Take this numpy array as an example. The values in the array represent predictions. The array contains softmax probabilities for five candidate images with six possible classes. `tf.nn.top_k` is used to choose the three classes with the highest probability:\n",
    "\n",
    "```\n",
    "# (5, 6) array\n",
    "a = np.array([[ 0.24879643,  0.07032244,  0.12641572,  0.34763842,  0.07893497,\n",
    "         0.12789202],\n",
    "       [ 0.28086119,  0.27569815,  0.08594638,  0.0178669 ,  0.18063401,\n",
    "         0.15899337],\n",
    "       [ 0.26076848,  0.23664738,  0.08020603,  0.07001922,  0.1134371 ,\n",
    "         0.23892179],\n",
    "       [ 0.11943333,  0.29198961,  0.02605103,  0.26234032,  0.1351348 ,\n",
    "         0.16505091],\n",
    "       [ 0.09561176,  0.34396535,  0.0643941 ,  0.16240774,  0.24206137,\n",
    "         0.09155967]])\n",
    "```\n",
    "\n",
    "Running it through `sess.run(tf.nn.top_k(tf.constant(a), k=3))` produces:\n",
    "\n",
    "```\n",
    "TopKV2(values=array([[ 0.34763842,  0.24879643,  0.12789202],\n",
    "       [ 0.28086119,  0.27569815,  0.18063401],\n",
    "       [ 0.26076848,  0.23892179,  0.23664738],\n",
    "       [ 0.29198961,  0.26234032,  0.16505091],\n",
    "       [ 0.34396535,  0.24206137,  0.16240774]]), indices=array([[3, 0, 5],\n",
    "       [0, 1, 4],\n",
    "       [0, 5, 1],\n",
    "       [1, 3, 5],\n",
    "       [1, 4, 3]], dtype=int32))\n",
    "```\n",
    "\n",
    "Looking just at the first row we get `[ 0.34763842,  0.24879643,  0.12789202]`, you can confirm these are the 3 largest probabilities in `a`. You'll also notice `[3, 0, 5]` are the corresponding indices."
   ]
  },
  {
   "cell_type": "code",
   "execution_count": null,
   "metadata": {},
   "outputs": [],
   "source": [
    "### Print out the top five softmax probabilities for the predictions on the German traffic sign images found on the web. \n",
    "### Feel free to use as many code cells as needed.\n",
    "with tf.Session() as sess:\n",
    "\n",
    "    #sess.run(tf.global_variables_initializer())\n",
    "    nsaver = tf.train.import_meta_graph(\"lenet.meta\")\n",
    "    nsaver.restore(sess, tf.train.latest_checkpoint('.'))\n",
    "    a=sess.run(tf.nn.top_k(tf.constant(probs), k=3))\n",
    "print(a)\n",
    "#[24,30,14,2,18,22,24,28]"
   ]
  },
  {
   "cell_type": "markdown",
   "metadata": {},
   "source": [
    "### Project Writeup\n",
    "\n",
    "Once you have completed the code implementation, document your results in a project writeup using this [template](https://github.com/udacity/CarND-Traffic-Sign-Classifier-Project/blob/master/writeup_template.md) as a guide. The writeup can be in a markdown or pdf file. "
   ]
  },
  {
   "cell_type": "markdown",
   "metadata": {},
   "source": [
    "> **Note**: Once you have completed all of the code implementations and successfully answered each question above, you may finalize your work by exporting the iPython Notebook as an HTML document. You can do this by using the menu above and navigating to  \\n\",\n",
    "    \"**File -> Download as -> HTML (.html)**. Include the finished document along with this notebook as your submission."
   ]
  },
  {
   "cell_type": "markdown",
   "metadata": {},
   "source": [
    "---\n",
    "\n",
    "## Step 4 (Optional): Visualize the Neural Network's State with Test Images\n",
    "\n",
    " This Section is not required to complete but acts as an additional excersise for understaning the output of a neural network's weights. While neural networks can be a great learning device they are often referred to as a black box. We can understand what the weights of a neural network look like better by plotting their feature maps. After successfully training your neural network you can see what it's feature maps look like by plotting the output of the network's weight layers in response to a test stimuli image. From these plotted feature maps, it's possible to see what characteristics of an image the network finds interesting. For a sign, maybe the inner network feature maps react with high activation to the sign's boundary outline or to the contrast in the sign's painted symbol.\n",
    "\n",
    " Provided for you below is the function code that allows you to get the visualization output of any tensorflow weight layer you want. The inputs to the function should be a stimuli image, one used during training or a new one you provided, and then the tensorflow variable name that represents the layer's state during the training process, for instance if you wanted to see what the [LeNet lab's](https://classroom.udacity.com/nanodegrees/nd013/parts/fbf77062-5703-404e-b60c-95b78b2f3f9e/modules/6df7ae49-c61c-4bb2-a23e-6527e69209ec/lessons/601ae704-1035-4287-8b11-e2c2716217ad/concepts/d4aca031-508f-4e0b-b493-e7b706120f81) feature maps looked like for it's second convolutional layer you could enter conv2 as the tf_activation variable.\n",
    "\n",
    "For an example of what feature map outputs look like, check out NVIDIA's results in their paper [End-to-End Deep Learning for Self-Driving Cars](https://devblogs.nvidia.com/parallelforall/deep-learning-self-driving-cars/) in the section Visualization of internal CNN State. NVIDIA was able to show that their network's inner weights had high activations to road boundary lines by comparing feature maps from an image with a clear path to one without. Try experimenting with a similar test to show that your trained network's weights are looking for interesting features, whether it's looking at differences in feature maps from images with or without a sign, or even what feature maps look like in a trained network vs a completely untrained one on the same sign image.\n",
    "\n",
    "<figure>\n",
    " <img src=\"visualize_cnn.png\" width=\"380\" alt=\"Combined Image\" />\n",
    " <figcaption>\n",
    " <p></p> \n",
    " <p style=\"text-align: center;\"> Your output should look something like this (above)</p> \n",
    " </figcaption>\n",
    "</figure>\n",
    " <p></p> \n"
   ]
  },
  {
   "cell_type": "code",
   "execution_count": null,
   "metadata": {},
   "outputs": [],
   "source": [
    "### Visualize your network's feature maps here.\n",
    "### Feel free to use as many code cells as needed.\n",
    "\n",
    "# image_input: the test image being fed into the network to produce the feature maps\n",
    "# tf_activation: should be a tf variable name used during your training procedure that represents the calculated state of a specific weight layer\n",
    "# activation_min/max: can be used to view the activation contrast in more detail, by default matplot sets min and max to the actual min and max values of the output\n",
    "# plt_num: used to plot out multiple different weight feature map sets on the same block, just extend the plt number for each new feature map entry\n",
    "\n",
    "def outputFeatureMap(image_input, tf_activation, activation_min=-1, activation_max=-1 ,plt_num=1):\n",
    "    # Here make sure to preprocess your image_input in a way your network expects\n",
    "    # with size, normalization, ect if needed\n",
    "    # image_input =\n",
    "    # Note: x should be the same name as your network's tensorflow data placeholder variable\n",
    "    # If you get an error tf_activation is not defined it may be having trouble accessing the variable from inside a function\n",
    "    activation = tf_activation.eval(session=sess,feed_dict={x : image_input})\n",
    "    featuremaps = activation.shape[3]\n",
    "    plt.figure(plt_num, figsize=(15,15))\n",
    "    for featuremap in range(featuremaps):\n",
    "        plt.subplot(6,8, featuremap+1) # sets the number of feature maps to show on each row and column\n",
    "        plt.title('FeatureMap ' + str(featuremap)) # displays the feature map number\n",
    "        if activation_min != -1 & activation_max != -1:\n",
    "            plt.imshow(activation[0,:,:, featuremap], interpolation=\"nearest\", vmin =activation_min, vmax=activation_max, cmap=\"gray\")\n",
    "        elif activation_max != -1:\n",
    "            plt.imshow(activation[0,:,:, featuremap], interpolation=\"nearest\", vmax=activation_max, cmap=\"gray\")\n",
    "        elif activation_min !=-1:\n",
    "            plt.imshow(activation[0,:,:, featuremap], interpolation=\"nearest\", vmin=activation_min, cmap=\"gray\")\n",
    "        else:\n",
    "            plt.imshow(activation[0,:,:, featuremap], interpolation=\"nearest\", cmap=\"gray\")"
   ]
  },
  {
   "cell_type": "code",
   "execution_count": null,
   "metadata": {},
   "outputs": [],
   "source": [
    "image_input=X_new_test[1]\n",
    "outputFeatureMap(image_input, conv2, activation_min=-1, activation_max=-1 ,plt_num=1)"
   ]
  }
 ],
 "metadata": {
  "anaconda-cloud": {},
  "kernelspec": {
   "display_name": "Python 3",
   "language": "python",
   "name": "python3"
  },
  "language_info": {
   "codemirror_mode": {
    "name": "ipython",
    "version": 3
   },
   "file_extension": ".py",
   "mimetype": "text/x-python",
   "name": "python",
   "nbconvert_exporter": "python",
   "pygments_lexer": "ipython3",
   "version": "3.5.2"
  },
  "widgets": {
   "state": {},
   "version": "1.1.2"
  }
 },
 "nbformat": 4,
 "nbformat_minor": 1
}
